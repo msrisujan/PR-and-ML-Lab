{
 "cells": [
  {
   "cell_type": "code",
   "execution_count": 16,
   "metadata": {},
   "outputs": [],
   "source": [
    "import numpy as np\n",
    "import pandas as pd\n",
    "import matplotlib.pyplot as plt"
   ]
  },
  {
   "cell_type": "code",
   "execution_count": 17,
   "metadata": {},
   "outputs": [],
   "source": [
    "w1 = np.array([[2,6],[3,4],[3,8],[4,6]])\n",
    "w2 = np.array([[3,0],[1,-2],[3,-4],[5,-2]])"
   ]
  },
  {
   "cell_type": "code",
   "execution_count": 18,
   "metadata": {},
   "outputs": [],
   "source": [
    "def covariance(X):\n",
    "    mean = np.mean(X,axis=0)\n",
    "    X = X - mean\n",
    "    return (X.T @ X)/(X.shape[0]-1)"
   ]
  },
  {
   "cell_type": "code",
   "execution_count": 19,
   "metadata": {},
   "outputs": [],
   "source": [
    "def find_case(w1, w2):\n",
    "    cov_w1, cov_w2 = covariance(w1), covariance(w2)\n",
    "    if (cov_w1 == cov_w2).all():\n",
    "        identity = np.identity(w1.shape[1])\n",
    "        if ((cov_w1[0, 0] * identity) == cov_w1).all():\n",
    "            return 1\n",
    "        else:\n",
    "            return 2\n",
    "    else:\n",
    "        return 3"
   ]
  },
  {
   "cell_type": "code",
   "execution_count": 20,
   "metadata": {},
   "outputs": [],
   "source": [
    "def g_of_x(X, apriori,case):\n",
    "    cov = covariance(X)\n",
    "    inv_cov = np.linalg.inv(cov)\n",
    "    mean = np.mean(X,axis=0)\n",
    "    cov_det = np.linalg.det(cov)\n",
    "\n",
    "    if case == 1:\n",
    "        sigma_sq = cov[0, 0]\n",
    "        A = np.zeros_like(inv_cov)\n",
    "        B = mean.T / sigma_sq\n",
    "        C = -0.5 * mean.T.dot(mean) / sigma_sq + np.log(apriori)\n",
    "    elif case == 2:\n",
    "        A = np.zeros_like(inv_cov)\n",
    "        B = inv_cov.dot(mean)\n",
    "        C = -0.5 * mean.T.dot(inv_cov).dot(mean) + np.log(apriori)\n",
    "    elif case == 3:\n",
    "        A = -0.5 * inv_cov\n",
    "        B = inv_cov.dot(mean)\n",
    "        C = -0.5 * mean.T.dot(inv_cov).dot(mean) - 0.5 * np.log(cov_det) + np.log(apriori)\n",
    "    return lambda x: x.T @ A @ x + B.T @ x + C  "
   ]
  },
  {
   "cell_type": "code",
   "execution_count": 21,
   "metadata": {},
   "outputs": [],
   "source": [
    "def discriminant_plot(g1, g2):\n",
    "    x = np.linspace(-20,20,100)\n",
    "    y = np.linspace(-20,20,100)\n",
    "    X,Y = np.meshgrid(x,y)\n",
    "    Z = np.zeros(X.shape)\n",
    "    for i in range(X.shape[0]):\n",
    "        for j in range(X.shape[1]):\n",
    "            Z[i,j] = g1(np.array([X[i,j],Y[i,j]])) - g2(np.array([X[i,j],Y[i,j]]))\n",
    "    plt.contour(X, Y, Z, levels=[0])\n",
    "    plt.axis([0, 6, -6, 10])"
   ]
  },
  {
   "cell_type": "code",
   "execution_count": 22,
   "metadata": {},
   "outputs": [],
   "source": [
    "case = find_case(w1,w2)\n",
    "g1 = g_of_x(w1,0.5,case)\n",
    "g2 = g_of_x(w2,0.5,case)"
   ]
  },
  {
   "cell_type": "code",
   "execution_count": 23,
   "metadata": {},
   "outputs": [
    {
     "data": {
      "image/png": "[encoded data removed]",
      "text/plain": [
       "<Figure size 640x480 with 1 Axes>"
      ]
     },
     "metadata": {},
     "output_type": "display_data"
    }
   ],
   "source": [
    "discriminant_plot(g1,g2)\n",
    "plt.scatter(w1[:,0],w1[:,1],color='red')\n",
    "plt.scatter(w2[:,0],w2[:,1],color='blue')\n",
    "plt.show()"
   ]
  }
 ],
 "metadata": {
  "kernelspec": {
   "display_name": "base",
   "language": "python",
   "name": "python3"
  },
  "language_info": {
   "codemirror_mode": {
    "name": "ipython",
    "version": 3
   },
   "file_extension": ".py",
   "mimetype": "text/x-python",
   "name": "python",
   "nbconvert_exporter": "python",
   "pygments_lexer": "ipython3",
   "version": "3.11.3"
  },
  "orig_nbformat": 4
 },
 "nbformat": 4,
 "nbformat_minor": 2
}
