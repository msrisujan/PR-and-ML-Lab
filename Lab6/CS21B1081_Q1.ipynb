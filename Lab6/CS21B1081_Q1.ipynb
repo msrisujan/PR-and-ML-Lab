{
 "cells": [
  {
   "cell_type": "code",
   "execution_count": 1,
   "metadata": {},
   "outputs": [],
   "source": [
    "import numpy as np\n",
    "import pandas as pd\n",
    "import matplotlib.pyplot as plt"
   ]
  },
  {
   "cell_type": "code",
   "execution_count": 2,
   "metadata": {},
   "outputs": [
    {
     "name": "stdout",
     "output_type": "stream",
     "text": [
      "     SepalLengthCm  SepalWidthCm  PetalLengthCm  PetalWidthCm         Species\n",
      "0              5.1           3.5            1.4           0.2     Iris-setosa\n",
      "1              4.9           3.0            1.4           0.2     Iris-setosa\n",
      "2              4.7           3.2            1.3           0.2     Iris-setosa\n",
      "3              4.6           3.1            1.5           0.2     Iris-setosa\n",
      "4              5.0           3.6            1.4           0.2     Iris-setosa\n",
      "..             ...           ...            ...           ...             ...\n",
      "145            6.7           3.0            5.2           2.3  Iris-virginica\n",
      "146            6.3           2.5            5.0           1.9  Iris-virginica\n",
      "147            6.5           3.0            5.2           2.0  Iris-virginica\n",
      "148            6.2           3.4            5.4           2.3  Iris-virginica\n",
      "149            5.9           3.0            5.1           1.8  Iris-virginica\n",
      "\n",
      "[150 rows x 5 columns]\n"
     ]
    }
   ],
   "source": [
    "df = pd.read_csv('iris.csv').drop('Id', axis=1)\n",
    "print(df)"
   ]
  },
  {
   "cell_type": "code",
   "execution_count": 5,
   "metadata": {},
   "outputs": [
    {
     "name": "stdout",
     "output_type": "stream",
     "text": [
      "     SepalLengthCm  SepalWidthCm  PetalLengthCm  PetalWidthCm         Species\n",
      "0              5.1           3.5            1.4           0.2     Iris-setosa\n",
      "1              4.9           3.0            1.4           0.2     Iris-setosa\n",
      "2              4.7           3.2            1.3           0.2     Iris-setosa\n",
      "3              4.6           3.1            1.5           0.2     Iris-setosa\n",
      "4              5.0           3.6            1.4           0.2     Iris-setosa\n",
      "..             ...           ...            ...           ...             ...\n",
      "115            7.7           3.0            6.1           2.3  Iris-virginica\n",
      "116            6.3           3.4            5.6           2.4  Iris-virginica\n",
      "117            6.4           3.1            5.5           1.8  Iris-virginica\n",
      "118            6.0           3.0            4.8           1.8  Iris-virginica\n",
      "119            6.9           3.1            5.4           2.1  Iris-virginica\n",
      "\n",
      "[120 rows x 5 columns]\n"
     ]
    }
   ],
   "source": [
    "classes = df['Species'].unique()\n",
    "train = pd.DataFrame()\n",
    "test = pd.DataFrame()\n",
    "\n",
    "for c in classes:\n",
    "    train = pd.concat([train, df[df['Species'] == c].iloc[:40]],ignore_index=True)\n",
    "    test = pd.concat([test, df[df['Species'] == c].iloc[40:]],ignore_index=True)\n",
    "\n",
    "print(train)"
   ]
  },
  {
   "cell_type": "code",
   "execution_count": 6,
   "metadata": {},
   "outputs": [
    {
     "name": "stdout",
     "output_type": "stream",
     "text": [
      "    SepalLengthCm  SepalWidthCm  PetalLengthCm  PetalWidthCm          Species\n",
      "0             5.0           3.5            1.3           0.3      Iris-setosa\n",
      "1             4.5           2.3            1.3           0.3      Iris-setosa\n",
      "2             4.4           3.2            1.3           0.2      Iris-setosa\n",
      "3             5.0           3.5            1.6           0.6      Iris-setosa\n",
      "4             5.1           3.8            1.9           0.4      Iris-setosa\n",
      "5             4.8           3.0            1.4           0.3      Iris-setosa\n",
      "6             5.1           3.8            1.6           0.2      Iris-setosa\n",
      "7             4.6           3.2            1.4           0.2      Iris-setosa\n",
      "8             5.3           3.7            1.5           0.2      Iris-setosa\n",
      "9             5.0           3.3            1.4           0.2      Iris-setosa\n",
      "10            5.5           2.6            4.4           1.2  Iris-versicolor\n",
      "11            6.1           3.0            4.6           1.4  Iris-versicolor\n",
      "12            5.8           2.6            4.0           1.2  Iris-versicolor\n",
      "13            5.0           2.3            3.3           1.0  Iris-versicolor\n",
      "14            5.6           2.7            4.2           1.3  Iris-versicolor\n",
      "15            5.7           3.0            4.2           1.2  Iris-versicolor\n",
      "16            5.7           2.9            4.2           1.3  Iris-versicolor\n",
      "17            6.2           2.9            4.3           1.3  Iris-versicolor\n",
      "18            5.1           2.5            3.0           1.1  Iris-versicolor\n",
      "19            5.7           2.8            4.1           1.3  Iris-versicolor\n",
      "20            6.7           3.1            5.6           2.4   Iris-virginica\n",
      "21            6.9           3.1            5.1           2.3   Iris-virginica\n",
      "22            5.8           2.7            5.1           1.9   Iris-virginica\n",
      "23            6.8           3.2            5.9           2.3   Iris-virginica\n",
      "24            6.7           3.3            5.7           2.5   Iris-virginica\n",
      "25            6.7           3.0            5.2           2.3   Iris-virginica\n",
      "26            6.3           2.5            5.0           1.9   Iris-virginica\n",
      "27            6.5           3.0            5.2           2.0   Iris-virginica\n",
      "28            6.2           3.4            5.4           2.3   Iris-virginica\n",
      "29            5.9           3.0            5.1           1.8   Iris-virginica\n"
     ]
    }
   ],
   "source": [
    "print(test)"
   ]
  },
  {
   "cell_type": "code",
   "execution_count": 8,
   "metadata": {},
   "outputs": [],
   "source": [
    "def Bayes_classifier(train, test_vector):\n",
    "    classes = train['Species'].unique()\n",
    "    dim = len(train.columns) - 1\n",
    "    bayes_prob = []\n",
    "\n",
    "    for c in classes:\n",
    "        apriori = len(train[train['Species'] == c]) / len(train)\n",
    "        mean_vector = np.array(train[train['Species'] == c].iloc[:, :dim].mean())\n",
    "        cov_matrix = np.array(train[train['Species'] == c].iloc[:, :dim].cov())\n",
    "        inv_cov_matrix = np.linalg.inv(cov_matrix)\n",
    "        det_cov_matrix = np.linalg.det(cov_matrix)\n",
    "        test_vector = np.array(test_vector)\n",
    "        prob = np.exp(-0.5 * np.dot(np.dot((test_vector - mean_vector).T, inv_cov_matrix), (test_vector - mean_vector))) / (\n",
    "                    np.power(2 * np.pi, dim / 2) * np.power(det_cov_matrix, 0.5))\n",
    "        bayes_prob.append(prob * apriori)\n",
    "\n",
    "    return classes[np.argmax(bayes_prob)]\n",
    "        \n",
    "        "
   ]
  },
  {
   "cell_type": "code",
   "execution_count": 11,
   "metadata": {},
   "outputs": [
    {
     "name": "stdout",
     "output_type": "stream",
     "text": [
      "             Actual        Predicted\n",
      "0       Iris-setosa      Iris-setosa\n",
      "1       Iris-setosa      Iris-setosa\n",
      "2       Iris-setosa      Iris-setosa\n",
      "3       Iris-setosa      Iris-setosa\n",
      "4       Iris-setosa      Iris-setosa\n",
      "5       Iris-setosa      Iris-setosa\n",
      "6       Iris-setosa      Iris-setosa\n",
      "7       Iris-setosa      Iris-setosa\n",
      "8       Iris-setosa      Iris-setosa\n",
      "9       Iris-setosa      Iris-setosa\n",
      "10  Iris-versicolor  Iris-versicolor\n",
      "11  Iris-versicolor  Iris-versicolor\n",
      "12  Iris-versicolor  Iris-versicolor\n",
      "13  Iris-versicolor  Iris-versicolor\n",
      "14  Iris-versicolor  Iris-versicolor\n",
      "15  Iris-versicolor  Iris-versicolor\n",
      "16  Iris-versicolor  Iris-versicolor\n",
      "17  Iris-versicolor  Iris-versicolor\n",
      "18  Iris-versicolor  Iris-versicolor\n",
      "19  Iris-versicolor  Iris-versicolor\n",
      "20   Iris-virginica   Iris-virginica\n",
      "21   Iris-virginica   Iris-virginica\n",
      "22   Iris-virginica   Iris-virginica\n",
      "23   Iris-virginica   Iris-virginica\n",
      "24   Iris-virginica   Iris-virginica\n",
      "25   Iris-virginica   Iris-virginica\n",
      "26   Iris-virginica   Iris-virginica\n",
      "27   Iris-virginica   Iris-virginica\n",
      "28   Iris-virginica   Iris-virginica\n",
      "29   Iris-virginica   Iris-virginica\n"
     ]
    }
   ],
   "source": [
    "predictions = []\n",
    "for i in range(len(test)):\n",
    "    predictions.append(Bayes_classifier(train, test.iloc[i, :-1]))\n",
    "\n",
    "compare = pd.DataFrame({'Actual': test['Species'], 'Predicted': predictions})\n",
    "\n",
    "print(compare)"
   ]
  },
  {
   "cell_type": "code",
   "execution_count": 12,
   "metadata": {},
   "outputs": [
    {
     "name": "stdout",
     "output_type": "stream",
     "text": [
      "1.0\n"
     ]
    }
   ],
   "source": [
    "def accuracy(y_pred,y_test):\n",
    "    return np.sum(y_pred == y_test)/len(y_test)\n",
    "\n",
    "print(accuracy(predictions, test['Species']))"
   ]
  },
  {
   "cell_type": "code",
   "execution_count": null,
   "metadata": {},
   "outputs": [],
   "source": []
  }
 ],
 "metadata": {
  "kernelspec": {
   "display_name": "Python 3 (ipykernel)",
   "language": "python",
   "name": "python3"
  },
  "language_info": {
   "codemirror_mode": {
    "name": "ipython",
    "version": 3
   },
   "file_extension": ".py",
   "mimetype": "text/x-python",
   "name": "python",
   "nbconvert_exporter": "python",
   "pygments_lexer": "ipython3",
   "version": "3.11.3"
  },
  "orig_nbformat": 4
 },
 "nbformat": 4,
 "nbformat_minor": 2
}
