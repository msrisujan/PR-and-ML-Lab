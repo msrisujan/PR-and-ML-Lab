{
 "cells": [
  {
   "cell_type": "code",
   "execution_count": 126,
   "metadata": {},
   "outputs": [],
   "source": [
    "import numpy as np\n",
    "import pandas as pd\n",
    "import sympy as sp"
   ]
  },
  {
   "cell_type": "code",
   "execution_count": 127,
   "metadata": {},
   "outputs": [],
   "source": [
    "def covariance(X):\n",
    "    mean = np.mean(X,axis=0)\n",
    "    X = X - mean\n",
    "    return np.dot(X.T, X)/(X.shape[0]-1)"
   ]
  },
  {
   "cell_type": "markdown",
   "metadata": {},
   "source": [
    "### PCA class"
   ]
  },
  {
   "cell_type": "code",
   "execution_count": 128,
   "metadata": {},
   "outputs": [],
   "source": [
    "class PCA:\n",
    "    def __init__(self, cumvar_threshold=0.95):\n",
    "        self.cumvar_threshold = cumvar_threshold\n",
    "        self.components = None\n",
    "        self.explained_variance = None\n",
    "        self.explained_variance_ratio = None\n",
    "        self.cumulative_variance_ratio = None\n",
    "        self.n_components = None\n",
    "        \n",
    "    def fit(self, X):\n",
    "        # covariance matrix\n",
    "        cov = covariance(X)\n",
    "        # eigenvalues and eigenvectors\n",
    "        eigenvalues, eigenvectors = np.linalg.eig(cov)\n",
    "        # sort eigenvalues and eigenvectors\n",
    "        idx = eigenvalues.argsort()[::-1]\n",
    "        eigenvalues = eigenvalues[idx]\n",
    "        eigenvectors = eigenvectors[:, idx]\n",
    "        # explained variance\n",
    "        self.explained_variance = eigenvalues\n",
    "        self.explained_variance_ratio = eigenvalues / eigenvalues.sum()\n",
    "        self.cumulative_variance_ratio = np.cumsum(self.explained_variance_ratio)\n",
    "        # number of components\n",
    "        self.n_components = np.argmax(self.cumulative_variance_ratio >= self.cumvar_threshold) + 1\n",
    "        # components\n",
    "        self.components = eigenvectors[:, :self.n_components]\n",
    "    \n",
    "    def transform(self, X):\n",
    "        return np.dot(X, self.components)"
   ]
  },
  {
   "cell_type": "markdown",
   "metadata": {},
   "source": [
    "### KNN Classifier"
   ]
  },
  {
   "cell_type": "code",
   "execution_count": 129,
   "metadata": {},
   "outputs": [],
   "source": [
    "def euclidean_distance(X_train, X_test):\n",
    "    dist = np.zeros((len(X_test), len(X_train)))\n",
    "    for i in range(len(X_test)):\n",
    "        for j in range(len(X_train)):\n",
    "            dist[i,j] = np.sqrt(np.sum((X_test[i] - X_train[j])**2))\n",
    "    return dist\n",
    "class KNN:\n",
    "    def __init__(self, k = 5):\n",
    "        self.k = k\n",
    "    def fit(self, X_train, y_train):\n",
    "        self.X_train = X_train\n",
    "        self.y_train = y_train\n",
    "        \n",
    "    def predict(self, X_test):\n",
    "        self.distances = euclidean_distance(self.X_train, X_test)\n",
    "        pred = []\n",
    "        for dist in self.distances:\n",
    "            k_nearest_indices = np.argsort(dist)[:self.k]\n",
    "            k_nearest_labels = self.y_train[k_nearest_indices]\n",
    "            pred.append(np.unique(k_nearest_labels)[np.argmax(np.unique(k_nearest_labels, return_counts=True)[1])])\n",
    "        return np.array(pred)"
   ]
  },
  {
   "cell_type": "code",
   "execution_count": 130,
   "metadata": {},
   "outputs": [],
   "source": [
    "data = pd.read_csv('gender.csv')"
   ]
  },
  {
   "cell_type": "code",
   "execution_count": 131,
   "metadata": {},
   "outputs": [
    {
     "name": "stdout",
     "output_type": "stream",
     "text": [
      "    Unnamed: 0 Unnamed: 1         0         1         2         3         4  \\\n",
      "0            1       male -0.066420  0.151611  0.027740  0.052771 -0.066105   \n",
      "1            2       male -0.030614  0.049667  0.008084 -0.050324  0.007649   \n",
      "2            3       male -0.096178  0.061127  0.035326 -0.035388 -0.090728   \n",
      "3            4       male -0.103057  0.085044  0.078333 -0.035873 -0.028163   \n",
      "4            5       male -0.125815  0.120046  0.023131 -0.042901  0.038215   \n",
      "5            6       male -0.149119  0.125288  0.142323 -0.009087 -0.031394   \n",
      "6            7       male -0.139035  0.073513 -0.001770 -0.034225 -0.101610   \n",
      "7            8       male -0.074126 -0.000669  0.004166 -0.082413 -0.096091   \n",
      "8            9       male -0.166220  0.042769 -0.031647 -0.036892 -0.143837   \n",
      "9           10       male -0.185770  0.154008  0.073184 -0.070829 -0.144617   \n",
      "10         400     female  0.039844  0.070357  0.130196 -0.007683 -0.077825   \n",
      "11         401     female  0.001747  0.185678  0.073260  0.042142 -0.088674   \n",
      "12         402     female -0.091598  0.095340  0.072125 -0.092276 -0.079953   \n",
      "13         403     female -0.018751  0.088572  0.068894 -0.065700 -0.115126   \n",
      "14         404     female -0.130889  0.093262  0.122244 -0.110014 -0.157625   \n",
      "15         405     female -0.037433  0.078158  0.118061 -0.117658 -0.194807   \n",
      "16         406     female -0.048322  0.063833  0.110804 -0.096333 -0.145212   \n",
      "17         407     female -0.102973  0.046464  0.019684 -0.087742 -0.086486   \n",
      "18         408     female -0.134824  0.093314  0.103505 -0.054522 -0.066692   \n",
      "19         409     female -0.086950  0.104945  0.093125 -0.138791 -0.111283   \n",
      "\n",
      "           5         6         7  ...       118       119       120       121  \\\n",
      "0  -0.041232 -0.002637 -0.158467  ...  0.025989 -0.001087  0.027260 -0.046754   \n",
      "1  -0.063818 -0.019530 -0.119905  ...  0.044229 -0.023900 -0.028108  0.040618   \n",
      "2  -0.018634 -0.024315 -0.139786  ...  0.111141  0.059436 -0.029222  0.042115   \n",
      "3   0.004924  0.007829 -0.017016  ...  0.100793 -0.002644 -0.023388  0.029497   \n",
      "4  -0.049677 -0.054258 -0.130758  ...  0.090197  0.067527  0.039926  0.047469   \n",
      "5  -0.123533  0.043598 -0.063999  ...  0.060833  0.089529 -0.034872  0.057080   \n",
      "6   0.065105 -0.014420 -0.054993  ...  0.081007 -0.002164  0.060377  0.080294   \n",
      "7  -0.021992  0.009714 -0.056961  ...  0.050497  0.038932  0.023520 -0.090260   \n",
      "8  -0.040566  0.042541 -0.122923  ...  0.014732 -0.049135  0.081770 -0.027199   \n",
      "9  -0.019732 -0.019418 -0.004675  ...  0.093317  0.035101 -0.147997 -0.046010   \n",
      "10 -0.021298 -0.024133 -0.085105  ...  0.105510  0.081928 -0.033337 -0.023604   \n",
      "11  0.028186 -0.027830 -0.064211  ...  0.123615  0.030036  0.041442 -0.012818   \n",
      "12  0.047782 -0.004701 -0.092005  ...  0.011370  0.144719  0.089139 -0.059767   \n",
      "13  0.024339 -0.028420 -0.159320  ...  0.010345  0.095309  0.012255 -0.033010   \n",
      "14 -0.036781  0.073908 -0.098571  ...  0.003229  0.049330  0.059733 -0.023820   \n",
      "15 -0.045464 -0.014104 -0.158824  ...  0.043848 -0.009760  0.043486  0.020251   \n",
      "16  0.008218  0.012496 -0.056971  ...  0.036783  0.064837  0.140861 -0.063511   \n",
      "17 -0.044946 -0.088026 -0.248814  ...  0.091401  0.096097  0.019656  0.017288   \n",
      "18 -0.039892 -0.005544 -0.140088  ... -0.043587  0.042913 -0.062721 -0.065257   \n",
      "19 -0.078399 -0.063179 -0.155705  ...  0.125923  0.069823  0.081179  0.004632   \n",
      "\n",
      "         122       123       124       125       126       127  \n",
      "0  -0.118619 -0.163774 -0.000590 -0.076400  0.107497  0.001567  \n",
      "1  -0.146579 -0.141244  0.016162  0.017638  0.080610 -0.015930  \n",
      "2  -0.222173 -0.116908  0.093428  0.017391  0.057652  0.086116  \n",
      "3  -0.139830 -0.119243  0.005306 -0.015100  0.161575  0.062462  \n",
      "4  -0.056852 -0.076700  0.004966  0.028171  0.026041  0.084135  \n",
      "5  -0.137162 -0.072522  0.052731 -0.141460  0.019018  0.085765  \n",
      "6  -0.139369 -0.150245  0.078657  0.024194  0.062180  0.036039  \n",
      "7  -0.147692 -0.008296  0.007609 -0.026687 -0.017523 -0.038310  \n",
      "8  -0.096941 -0.094661  0.057797 -0.101063  0.061373  0.062176  \n",
      "9  -0.087777 -0.100660  0.036190  0.012158  0.032304  0.085996  \n",
      "10 -0.167003 -0.059075  0.053074  0.080940  0.011467 -0.021999  \n",
      "11 -0.119177 -0.165786 -0.075368 -0.017690  0.067028  0.036452  \n",
      "12 -0.111235 -0.055420  0.006283  0.016900 -0.081676  0.022809  \n",
      "13 -0.097720 -0.218889  0.077764  0.045943  0.010856  0.100522  \n",
      "14 -0.098432 -0.034316  0.075131 -0.029204 -0.020707  0.031028  \n",
      "15 -0.115420 -0.040023  0.099409 -0.032240  0.037601 -0.020016  \n",
      "16 -0.156427 -0.067221  0.025938  0.016019  0.016852  0.140859  \n",
      "17 -0.176065 -0.060538  0.095438 -0.088858  0.049312  0.019009  \n",
      "18 -0.232838 -0.136345  0.017268 -0.102133  0.014161  0.011314  \n",
      "19 -0.121078 -0.018539  0.092550 -0.081236  0.073335  0.056886  \n",
      "\n",
      "[20 rows x 130 columns]\n"
     ]
    }
   ],
   "source": [
    "classes = data.iloc[:, 1].unique()\n",
    "train = pd.DataFrame()\n",
    "test = pd.DataFrame()\n",
    "\n",
    "for i in classes:\n",
    "    train = pd.concat([train, data[data.iloc[:, 1] == i].iloc[10:]], ignore_index=True)\n",
    "    test = pd.concat([test, data[data.iloc[:, 1] == i].iloc[:10]], ignore_index=True)\n",
    "\n",
    "print(test)"
   ]
  },
  {
   "cell_type": "code",
   "execution_count": 132,
   "metadata": {},
   "outputs": [],
   "source": [
    "X_train = train.iloc[:, 2:].values\n",
    "y_train = train.iloc[:, 1].values\n",
    "X_test = test.iloc[:, 2:].values\n",
    "y_test = test.iloc[:, 1].values"
   ]
  },
  {
   "cell_type": "code",
   "execution_count": 133,
   "metadata": {},
   "outputs": [
    {
     "name": "stdout",
     "output_type": "stream",
     "text": [
      "[[-0.10175994  0.09511936  0.02239008 ...  0.04522717  0.13483205\n",
      "   0.0537758 ]\n",
      " [-0.12695727  0.06544437 -0.01474994 ... -0.02528606 -0.00342875\n",
      "   0.05703329]\n",
      " [ 0.02178704  0.0477692   0.03115616 ... -0.05274343  0.03425189\n",
      "   0.04634342]\n",
      " ...\n",
      " [-0.20285167  0.0370395   0.07973114 ...  0.03738441 -0.00625749\n",
      "   0.03997689]\n",
      " [-0.08829999  0.06353012  0.04962703 ...  0.00970074 -0.01694169\n",
      "   0.04807128]\n",
      " [-0.15620135  0.05516458  0.14271647 ... -0.0102984  -0.02885648\n",
      "   0.0753232 ]]\n"
     ]
    }
   ],
   "source": [
    "print(X_train)"
   ]
  },
  {
   "cell_type": "code",
   "execution_count": 134,
   "metadata": {},
   "outputs": [],
   "source": [
    "pca = PCA(0.95)\n",
    "pca.fit(X_train)"
   ]
  },
  {
   "cell_type": "code",
   "execution_count": 135,
   "metadata": {},
   "outputs": [],
   "source": [
    "X_train1 = pca.transform(X_train)"
   ]
  },
  {
   "cell_type": "code",
   "execution_count": 136,
   "metadata": {},
   "outputs": [
    {
     "name": "stdout",
     "output_type": "stream",
     "text": [
      "[[-0.16201447  0.03870741  0.13590151 ...  0.0875488  -0.18615724\n",
      "  -0.03118321]\n",
      " [-0.16369729  0.09623356 -0.26956394 ...  0.13118405 -0.16424507\n",
      "  -0.03418276]\n",
      " [-0.13568836  0.33517518 -0.14235416 ...  0.04097319 -0.20750583\n",
      "  -0.07148731]\n",
      " ...\n",
      " [-0.49782625  0.35616263 -0.23839154 ...  0.05620864 -0.2027782\n",
      "   0.00444246]\n",
      " [-0.53388546  0.38099249 -0.1277724  ...  0.0451492  -0.22881357\n",
      "  -0.03173833]\n",
      " [-0.54512133  0.05387415 -0.26936994 ...  0.06487287 -0.18464931\n",
      "  -0.04050429]]\n"
     ]
    }
   ],
   "source": [
    "print(X_train1)"
   ]
  },
  {
   "cell_type": "code",
   "execution_count": 137,
   "metadata": {},
   "outputs": [],
   "source": [
    "X_test1 = pca.transform(X_test)"
   ]
  },
  {
   "cell_type": "code",
   "execution_count": 138,
   "metadata": {},
   "outputs": [
    {
     "name": "stdout",
     "output_type": "stream",
     "text": [
      "[[-0.09864139  0.18567741 -0.18802642 ...  0.09239422 -0.15614565\n",
      "   0.0072273 ]\n",
      " [-0.1110883   0.11430068 -0.32885361 ...  0.09853505 -0.20004937\n",
      "  -0.05611838]\n",
      " [-0.13898797  0.06899293 -0.1259554  ...  0.08764153 -0.21843502\n",
      "   0.02000268]\n",
      " ...\n",
      " [-0.57546444  0.02622321  0.0915027  ...  0.09526622 -0.20086673\n",
      "   0.01346464]\n",
      " [-0.51033098  0.32639377 -0.20469761 ...  0.08536315 -0.18382309\n",
      "   0.01236624]\n",
      " [-0.52183469  0.0644349   0.01447099 ...  0.02715599 -0.19544759\n",
      "   0.08034389]]\n"
     ]
    }
   ],
   "source": [
    "print(X_test1)"
   ]
  },
  {
   "cell_type": "code",
   "execution_count": 139,
   "metadata": {},
   "outputs": [],
   "source": [
    "knn = KNN(5)\n",
    "knn.fit(X_train1, y_train)"
   ]
  },
  {
   "cell_type": "code",
   "execution_count": 140,
   "metadata": {},
   "outputs": [],
   "source": [
    "y_pred = knn.predict(X_test1)"
   ]
  },
  {
   "cell_type": "code",
   "execution_count": 141,
   "metadata": {},
   "outputs": [
    {
     "name": "stdout",
     "output_type": "stream",
     "text": [
      "    Actual Predicted\n",
      "0     male      male\n",
      "1     male      male\n",
      "2     male      male\n",
      "3     male      male\n",
      "4     male      male\n",
      "5     male      male\n",
      "6     male      male\n",
      "7     male    female\n",
      "8     male      male\n",
      "9     male      male\n",
      "10  female      male\n",
      "11  female      male\n",
      "12  female    female\n",
      "13  female    female\n",
      "14  female    female\n",
      "15  female    female\n",
      "16  female    female\n",
      "17  female    female\n",
      "18  female    female\n",
      "19  female    female\n"
     ]
    }
   ],
   "source": [
    "compared = pd.DataFrame({'Actual': y_test, 'Predicted': y_pred})\n",
    "print(compared)"
   ]
  },
  {
   "cell_type": "code",
   "execution_count": 142,
   "metadata": {},
   "outputs": [
    {
     "name": "stdout",
     "output_type": "stream",
     "text": [
      "Accuracy:  0.85\n",
      "accuracy percentage:  85.0 %\n"
     ]
    }
   ],
   "source": [
    "def accuracy(y_pred,y_test):\n",
    "    return np.sum(y_pred == y_test)/len(y_test)\n",
    "\n",
    "print(\"Accuracy: \", accuracy(y_pred, y_test))\n",
    "print(\"accuracy percentage: \", accuracy(y_pred, y_test)*100, \"%\")"
   ]
  }
 ],
 "metadata": {
  "kernelspec": {
   "display_name": "base",
   "language": "python",
   "name": "python3"
  },
  "language_info": {
   "codemirror_mode": {
    "name": "ipython",
    "version": 3
   },
   "file_extension": ".py",
   "mimetype": "text/x-python",
   "name": "python",
   "nbconvert_exporter": "python",
   "pygments_lexer": "ipython3",
   "version": "3.11.3"
  }
 },
 "nbformat": 4,
 "nbformat_minor": 2
}
