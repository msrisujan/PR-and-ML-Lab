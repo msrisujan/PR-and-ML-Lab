{
 "cells": [
  {
   "cell_type": "code",
   "execution_count": 215,
   "metadata": {},
   "outputs": [],
   "source": [
    "import numpy as np\n",
    "import pandas as pd\n",
    "import sympy as sp"
   ]
  },
  {
   "cell_type": "code",
   "execution_count": 216,
   "metadata": {},
   "outputs": [],
   "source": [
    "def covariance(X):\n",
    "    mean = np.mean(X,axis=0)\n",
    "    X = X - mean\n",
    "    return np.dot(X.T, X)/(X.shape[0]-1)"
   ]
  },
  {
   "cell_type": "code",
   "execution_count": 217,
   "metadata": {},
   "outputs": [],
   "source": [
    "class PCA:\n",
    "    def __init__(self, cumvar_threshold=0.95):\n",
    "        self.cumvar_threshold = cumvar_threshold\n",
    "        self.components = None\n",
    "        self.explained_variance = None\n",
    "        self.explained_variance_ratio = None\n",
    "        self.cumulative_variance_ratio = None\n",
    "        self.n_components = None\n",
    "        \n",
    "    def fit(self, X):\n",
    "        # covariance matrix\n",
    "        cov = covariance(X)\n",
    "        # eigenvalues and eigenvectors\n",
    "        eigenvalues, eigenvectors = np.linalg.eig(cov)\n",
    "        # sort eigenvalues and eigenvectors\n",
    "        idx = eigenvalues.argsort()[::-1]\n",
    "        eigenvalues = eigenvalues[idx]\n",
    "        eigenvectors = eigenvectors[:, idx]\n",
    "        # explained variance\n",
    "        self.explained_variance = eigenvalues\n",
    "        self.explained_variance_ratio = eigenvalues / eigenvalues.sum()\n",
    "        self.cumulative_variance_ratio = np.cumsum(self.explained_variance_ratio)\n",
    "        # number of components\n",
    "        self.n_components = np.argmax(self.cumulative_variance_ratio >= self.cumvar_threshold) + 1\n",
    "        # components\n",
    "        self.components = eigenvectors[:, :self.n_components]\n",
    "    \n",
    "    def transform(self, X):\n",
    "        return np.dot(X, self.components)"
   ]
  },
  {
   "cell_type": "code",
   "execution_count": 218,
   "metadata": {},
   "outputs": [],
   "source": [
    "def euclidean_distance(X_train, X_test):\n",
    "    dist = np.zeros((len(X_test), len(X_train)))\n",
    "    for i in range(len(X_test)):\n",
    "        for j in range(len(X_train)):\n",
    "            dist[i,j] = np.sqrt(np.sum((X_test[i] - X_train[j])**2))\n",
    "    return dist"
   ]
  },
  {
   "cell_type": "code",
   "execution_count": 219,
   "metadata": {},
   "outputs": [],
   "source": [
    "class KNN:\n",
    "    def __init__(self, k = 5):\n",
    "        self.k = k\n",
    "    def fit(self, X_train, y_train):\n",
    "        self.X_train = X_train\n",
    "        self.y_train = y_train\n",
    "        \n",
    "    def predict(self, X_test):\n",
    "        self.distances = euclidean_distance(self.X_train, X_test)\n",
    "        pred = []\n",
    "        for dist in self.distances:\n",
    "            k_nearest_indices = np.argsort(dist)[:self.k]\n",
    "            k_nearest_labels = self.y_train[k_nearest_indices]\n",
    "            pred.append(np.unique(k_nearest_labels)[np.argmax(np.unique(k_nearest_labels, return_counts=True)[1])])\n",
    "        return np.array(pred)"
   ]
  },
  {
   "cell_type": "code",
   "execution_count": 220,
   "metadata": {},
   "outputs": [],
   "source": [
    "df = pd.read_csv('face.csv')"
   ]
  },
  {
   "cell_type": "code",
   "execution_count": 221,
   "metadata": {},
   "outputs": [
    {
     "name": "stdout",
     "output_type": "stream",
     "text": [
      "           0         1         2         3         4         5         6  \\\n",
      "0   0.309917  0.367769  0.417355  0.442149  0.528926  0.607438  0.657025   \n",
      "1   0.454545  0.471074  0.512397  0.557851  0.595041  0.640496  0.681818   \n",
      "2   0.541322  0.586777  0.640496  0.661157  0.685950  0.685950  0.690083   \n",
      "3   0.644628  0.690083  0.702479  0.702479  0.706612  0.719008  0.727273   \n",
      "4   0.578512  0.603306  0.632231  0.665289  0.677686  0.710744  0.723140   \n",
      "..       ...       ...       ...       ...       ...       ...       ...   \n",
      "75  0.144628  0.219008  0.326446  0.471074  0.570248  0.644628  0.677686   \n",
      "76  0.252066  0.219008  0.227273  0.272727  0.318182  0.388430  0.458678   \n",
      "77  0.355372  0.392562  0.446281  0.462810  0.475207  0.491736  0.500000   \n",
      "78  0.545455  0.611570  0.640496  0.657025  0.636364  0.648760  0.690083   \n",
      "79  0.334711  0.404959  0.475207  0.537190  0.561983  0.553719  0.586777   \n",
      "\n",
      "           7         8         9  ...      4087      4088      4089      4090  \\\n",
      "0   0.677686  0.690083  0.685950  ...  0.669422  0.652893  0.661157  0.475207   \n",
      "1   0.702479  0.710744  0.702479  ...  0.157025  0.136364  0.148760  0.152893   \n",
      "2   0.698347  0.694215  0.690083  ...  0.483471  0.495868  0.512397  0.528926   \n",
      "3   0.739669  0.719008  0.719008  ...  0.495868  0.297521  0.074380  0.099174   \n",
      "4   0.739669  0.739669  0.743802  ...  0.177686  0.194215  0.198347  0.206612   \n",
      "..       ...       ...       ...  ...       ...       ...       ...       ...   \n",
      "75  0.710744  0.739669  0.760331  ...  0.388430  0.165289  0.198347  0.243802   \n",
      "76  0.504132  0.516529  0.524793  ...  0.260331  0.276859  0.293388  0.206612   \n",
      "77  0.504132  0.520661  0.545455  ...  0.132231  0.111570  0.140496  0.165289   \n",
      "78  0.669422  0.665289  0.710744  ...  0.169422  0.173554  0.148760  0.169422   \n",
      "79  0.623967  0.669422  0.690083  ...  0.537190  0.512397  0.466942  0.384298   \n",
      "\n",
      "        4091      4092      4093      4094      4095  target  \n",
      "0   0.132231  0.148760  0.152893  0.161157  0.157025       0  \n",
      "1   0.152893  0.152893  0.152893  0.152893  0.152893       0  \n",
      "2   0.363636  0.111570  0.095041  0.111570  0.111570       1  \n",
      "3   0.111570  0.115702  0.111570  0.107438  0.119835       1  \n",
      "4   0.194215  0.165289  0.177686  0.161157  0.152893       2  \n",
      "..       ...       ...       ...       ...       ...     ...  \n",
      "75  0.219008  0.392562  0.309917  0.210744  0.214876      37  \n",
      "76  0.128099  0.136364  0.157025  0.157025  0.185950      38  \n",
      "77  0.169422  0.173554  0.173554  0.181818  0.185950      38  \n",
      "78  0.165289  0.157025  0.173554  0.173554  0.181818      39  \n",
      "79  0.363636  0.380165  0.384298  0.376033  0.384298      39  \n",
      "\n",
      "[80 rows x 4097 columns]\n"
     ]
    }
   ],
   "source": [
    "classes = df['target'].unique()\n",
    "train = pd.DataFrame()\n",
    "test = pd.DataFrame()\n",
    "\n",
    "for i in classes:\n",
    "    train = pd.concat([train, df[df['target'] == i].iloc[2:]], ignore_index=True)\n",
    "    test = pd.concat([test, df[df['target'] == i].iloc[:2]], ignore_index=True)\n",
    "\n",
    "print(test)"
   ]
  },
  {
   "cell_type": "code",
   "execution_count": 222,
   "metadata": {},
   "outputs": [],
   "source": [
    "X_train = train.drop(['target'], axis=1).values\n",
    "y_train = train['target'].values\n",
    "X_test = test.drop(['target'], axis=1).values\n",
    "y_test = test['target'].values"
   ]
  },
  {
   "cell_type": "code",
   "execution_count": 223,
   "metadata": {},
   "outputs": [
    {
     "name": "stdout",
     "output_type": "stream",
     "text": [
      "[[0.3181818  0.40082645 0.49173555 ... 0.14049587 0.14876033 0.15289256]\n",
      " [0.1983471  0.19421488 0.19421488 ... 0.75206614 0.75206614 0.73966944]\n",
      " [0.5        0.54545456 0.58264464 ... 0.17768595 0.17355372 0.17355372]\n",
      " ...\n",
      " [0.5        0.53305787 0.607438   ... 0.17768595 0.14876033 0.19008264]\n",
      " [0.21487603 0.21900827 0.21900827 ... 0.57438016 0.59090906 0.60330576]\n",
      " [0.5165289  0.46280992 0.28099173 ... 0.35950413 0.3553719  0.38429752]]\n"
     ]
    }
   ],
   "source": [
    "print(X_train)"
   ]
  },
  {
   "cell_type": "code",
   "execution_count": 224,
   "metadata": {},
   "outputs": [],
   "source": [
    "pca = PCA(0.95)\n",
    "pca.fit(X_train)"
   ]
  },
  {
   "cell_type": "code",
   "execution_count": 225,
   "metadata": {},
   "outputs": [
    {
     "name": "stdout",
     "output_type": "stream",
     "text": [
      "(320, 111)\n"
     ]
    }
   ],
   "source": [
    "X_train1 = pca.transform(X_train)\n",
    "print(X_train1.shape)"
   ]
  },
  {
   "cell_type": "code",
   "execution_count": 226,
   "metadata": {},
   "outputs": [
    {
     "name": "stdout",
     "output_type": "stream",
     "text": [
      "(80, 111)\n"
     ]
    }
   ],
   "source": [
    "X_test1 = pca.transform(X_test)\n",
    "print(X_test1.shape)"
   ]
  },
  {
   "cell_type": "code",
   "execution_count": 227,
   "metadata": {},
   "outputs": [],
   "source": [
    "knn = KNN(5)\n",
    "knn.fit(X_train1, y_train)"
   ]
  },
  {
   "cell_type": "code",
   "execution_count": 228,
   "metadata": {},
   "outputs": [
    {
     "name": "stderr",
     "output_type": "stream",
     "text": [
      "/tmp/ipykernel_3475/27565779.py:5: ComplexWarning: Casting complex values to real discards the imaginary part\n",
      "  dist[i,j] = np.sqrt(np.sum((X_test[i] - X_train[j])**2))\n"
     ]
    }
   ],
   "source": [
    "y_pred = knn.predict(X_test1)"
   ]
  },
  {
   "cell_type": "code",
   "execution_count": 229,
   "metadata": {},
   "outputs": [
    {
     "name": "stdout",
     "output_type": "stream",
     "text": [
      "    Actual  Predicted\n",
      "0        0          0\n",
      "1        0          0\n",
      "2        1          1\n",
      "3        1          1\n",
      "4        2         39\n",
      "..     ...        ...\n",
      "75      37         37\n",
      "76      38         38\n",
      "77      38         38\n",
      "78      39         39\n",
      "79      39          4\n",
      "\n",
      "[80 rows x 2 columns]\n"
     ]
    }
   ],
   "source": [
    "compared = pd.DataFrame({'Actual': y_test, 'Predicted': y_pred})\n",
    "print(compared)"
   ]
  },
  {
   "cell_type": "code",
   "execution_count": 230,
   "metadata": {},
   "outputs": [
    {
     "name": "stdout",
     "output_type": "stream",
     "text": [
      "Accuracy:  0.8625\n",
      "accuracy percentage:  86.25 %\n"
     ]
    }
   ],
   "source": [
    "def accuracy(y_pred,y_test):\n",
    "    return np.sum(y_pred == y_test)/len(y_test)\n",
    "\n",
    "print(\"Accuracy: \", accuracy(y_pred, y_test))\n",
    "print(\"accuracy percentage: \", accuracy(y_pred, y_test)*100, \"%\")"
   ]
  }
 ],
 "metadata": {
  "kernelspec": {
   "display_name": "base",
   "language": "python",
   "name": "python3"
  },
  "language_info": {
   "codemirror_mode": {
    "name": "ipython",
    "version": 3
   },
   "file_extension": ".py",
   "mimetype": "text/x-python",
   "name": "python",
   "nbconvert_exporter": "python",
   "pygments_lexer": "ipython3",
   "version": "3.11.3"
  }
 },
 "nbformat": 4,
 "nbformat_minor": 2
}
