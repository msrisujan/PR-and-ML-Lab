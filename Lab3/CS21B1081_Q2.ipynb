{
 "cells": [
  {
   "cell_type": "code",
   "execution_count": 1,
   "metadata": {},
   "outputs": [],
   "source": [
    "import numpy as np\n",
    "import pandas as pd\n",
    "import matplotlib.pyplot as plt"
   ]
  },
  {
   "cell_type": "code",
   "execution_count": 2,
   "metadata": {},
   "outputs": [
    {
     "data": {
      "text/html": [
       "<div>\n",
       "<style scoped>\n",
       "    .dataframe tbody tr th:only-of-type {\n",
       "        vertical-align: middle;\n",
       "    }\n",
       "\n",
       "    .dataframe tbody tr th {\n",
       "        vertical-align: top;\n",
       "    }\n",
       "\n",
       "    .dataframe thead th {\n",
       "        text-align: right;\n",
       "    }\n",
       "</style>\n",
       "<table border=\"1\" class=\"dataframe\">\n",
       "  <thead>\n",
       "    <tr style=\"text-align: right;\">\n",
       "      <th></th>\n",
       "      <th>Hours Studies</th>\n",
       "      <th>Hours Watching TV</th>\n",
       "      <th>Outdoor Activity Time</th>\n",
       "      <th>Hours Listening to Music</th>\n",
       "      <th>Water Consumed</th>\n",
       "      <th>Test Score</th>\n",
       "    </tr>\n",
       "  </thead>\n",
       "  <tbody>\n",
       "    <tr>\n",
       "      <th>0</th>\n",
       "      <td>2</td>\n",
       "      <td>4</td>\n",
       "      <td>2</td>\n",
       "      <td>2</td>\n",
       "      <td>5</td>\n",
       "      <td>65</td>\n",
       "    </tr>\n",
       "    <tr>\n",
       "      <th>1</th>\n",
       "      <td>3</td>\n",
       "      <td>3</td>\n",
       "      <td>4</td>\n",
       "      <td>3</td>\n",
       "      <td>6</td>\n",
       "      <td>70</td>\n",
       "    </tr>\n",
       "    <tr>\n",
       "      <th>2</th>\n",
       "      <td>4</td>\n",
       "      <td>2</td>\n",
       "      <td>6</td>\n",
       "      <td>4</td>\n",
       "      <td>5</td>\n",
       "      <td>75</td>\n",
       "    </tr>\n",
       "    <tr>\n",
       "      <th>3</th>\n",
       "      <td>5</td>\n",
       "      <td>1</td>\n",
       "      <td>8</td>\n",
       "      <td>1</td>\n",
       "      <td>6</td>\n",
       "      <td>80</td>\n",
       "    </tr>\n",
       "    <tr>\n",
       "      <th>4</th>\n",
       "      <td>6</td>\n",
       "      <td>0</td>\n",
       "      <td>10</td>\n",
       "      <td>5</td>\n",
       "      <td>4</td>\n",
       "      <td>85</td>\n",
       "    </tr>\n",
       "    <tr>\n",
       "      <th>5</th>\n",
       "      <td>7</td>\n",
       "      <td>0</td>\n",
       "      <td>12</td>\n",
       "      <td>0</td>\n",
       "      <td>5</td>\n",
       "      <td>90</td>\n",
       "    </tr>\n",
       "  </tbody>\n",
       "</table>\n",
       "</div>"
      ],
      "text/plain": [
       "   Hours Studies  Hours Watching TV  Outdoor Activity Time  \\\n",
       "0              2                  4                      2   \n",
       "1              3                  3                      4   \n",
       "2              4                  2                      6   \n",
       "3              5                  1                      8   \n",
       "4              6                  0                     10   \n",
       "5              7                  0                     12   \n",
       "\n",
       "   Hours Listening to Music  Water Consumed  Test Score  \n",
       "0                         2               5          65  \n",
       "1                         3               6          70  \n",
       "2                         4               5          75  \n",
       "3                         1               6          80  \n",
       "4                         5               4          85  \n",
       "5                         0               5          90  "
      ]
     },
     "execution_count": 2,
     "metadata": {},
     "output_type": "execute_result"
    }
   ],
   "source": [
    "data = {\n",
    "    \"Hours Studies\": [2, 3, 4, 5, 6, 7],\n",
    "    \"Hours Watching TV\": [4, 3, 2, 1, 0, 0],\n",
    "    \"Outdoor Activity Time\": [2, 4, 6, 8, 10, 12],\n",
    "    \"Hours Listening to Music\": [2, 3, 4, 1, 5, 0],\n",
    "    \"Water Consumed\": [5, 6, 5, 6, 4, 5],\n",
    "    \"Test Score\": [65, 70, 75, 80, 85, 90]\n",
    "}\n",
    "df = pd.DataFrame(data)\n",
    "df"
   ]
  },
  {
   "cell_type": "code",
   "execution_count": 3,
   "metadata": {},
   "outputs": [],
   "source": [
    "def correlation_coeff(x, y):\n",
    "    x_mean, y_mean = np.mean(x), np.mean(y)\n",
    "    x_std, y_std = np.std(x), np.std(y)\n",
    "    n = len(x)\n",
    "    return np.sum((x-x_mean)*(y-y_mean)) / (n*x_std*y_std)"
   ]
  },
  {
   "cell_type": "code",
   "execution_count": 16,
   "metadata": {},
   "outputs": [
    {
     "data": {
      "text/html": [
       "<div>\n",
       "<style scoped>\n",
       "    .dataframe tbody tr th:only-of-type {\n",
       "        vertical-align: middle;\n",
       "    }\n",
       "\n",
       "    .dataframe tbody tr th {\n",
       "        vertical-align: top;\n",
       "    }\n",
       "\n",
       "    .dataframe thead th {\n",
       "        text-align: right;\n",
       "    }\n",
       "</style>\n",
       "<table border=\"1\" class=\"dataframe\">\n",
       "  <thead>\n",
       "    <tr style=\"text-align: right;\">\n",
       "      <th></th>\n",
       "      <th>Test Score</th>\n",
       "    </tr>\n",
       "  </thead>\n",
       "  <tbody>\n",
       "    <tr>\n",
       "      <th>Hours Studies</th>\n",
       "      <td>1.000000</td>\n",
       "    </tr>\n",
       "    <tr>\n",
       "      <th>Hours Watching TV</th>\n",
       "      <td>-0.981981</td>\n",
       "    </tr>\n",
       "    <tr>\n",
       "      <th>Outdoor Activity Time</th>\n",
       "      <td>1.000000</td>\n",
       "    </tr>\n",
       "    <tr>\n",
       "      <th>Hours Listening to Music</th>\n",
       "      <td>-0.200000</td>\n",
       "    </tr>\n",
       "    <tr>\n",
       "      <th>Water Consumed</th>\n",
       "      <td>-0.355036</td>\n",
       "    </tr>\n",
       "  </tbody>\n",
       "</table>\n",
       "</div>"
      ],
      "text/plain": [
       "                          Test Score\n",
       "Hours Studies               1.000000\n",
       "Hours Watching TV          -0.981981\n",
       "Outdoor Activity Time       1.000000\n",
       "Hours Listening to Music   -0.200000\n",
       "Water Consumed             -0.355036"
      ]
     },
     "execution_count": 16,
     "metadata": {},
     "output_type": "execute_result"
    }
   ],
   "source": [
    "n =len(df.columns)\n",
    "corr_test = []\n",
    "for i in range(n-1):\n",
    "    corr_test.append(correlation_coeff(df[df.columns[i]],df[df.columns[n-1]]))\n",
    "\n",
    "corr_test = pd.DataFrame(corr_test,columns=['Test Score'],index=df.columns[:-1])\n",
    "corr_test\n"
   ]
  },
  {
   "cell_type": "code",
   "execution_count": 24,
   "metadata": {},
   "outputs": [
    {
     "name": "stdout",
     "output_type": "stream",
     "text": [
      "Positive Correlation\n",
      "Hours Studies - Test Score : 1.0\n",
      "Outdoor Activity Time - Test Score : 1.0\n",
      "\n",
      "Negative Correlation\n",
      "Hours Watching TV - Test Score : -0.98\n",
      "\n",
      "Non Correlation\n",
      "Hours Listening to Music - Test Score : -0.2\n",
      "Water Consumed - Test Score : -0.36\n"
     ]
    }
   ],
   "source": [
    "pos,neg,non = [],[],[]\n",
    "for i in range(len(corr_test)):\n",
    "    value = round(corr_test.iloc[i,0],2)\n",
    "    if value > 0.5:\n",
    "        pos.append(f\"{corr_test.index[i]} - {corr_test.columns[0]} : {value}\")                                \n",
    "    elif value < -0.5:\n",
    "        neg.append(f\"{corr_test.index[i]} - {corr_test.columns[0]} : {value}\")\n",
    "    else:\n",
    "        non.append(f\"{corr_test.index[i]} - {corr_test.columns[0]} : {value}\")\n",
    "print(\"Positive Correlation\")\n",
    "for i in pos:\n",
    "    print(i)\n",
    "print(\"\\nNegative Correlation\")\n",
    "for i in neg:\n",
    "    print(i)\n",
    "print(\"\\nNon Correlation\")\n",
    "for i in non:\n",
    "    print(i)"
   ]
  },
  {
   "cell_type": "markdown",
   "metadata": {},
   "source": [
    "## Positive Correlations"
   ]
  },
  {
   "cell_type": "markdown",
   "metadata": {},
   "source": [
    "Hours Studies(+1): The direct link between studying and developing a greater comprehension of the subject matter can be used to explain the positive association between the amount of time spent studying and exam scores. Spending more time studying helps people learn topics thoroughly, practise problem-solving, and become more familiar with the content, all of which improve test performance.\n",
    "\n",
    "Outdoor Activity(+1): The link between participating in outdoor activities and test scores is favourable, which shows that engaging in outdoor activities may help students do better in school. Exercise is proven to have positive effects on cognitive performance, emotional regulation, and general wellbeing, all of which can improve focus and academic results.\n"
   ]
  },
  {
   "cell_type": "markdown",
   "metadata": {},
   "source": [
    "## Negative Correlation"
   ]
  },
  {
   "cell_type": "markdown",
   "metadata": {},
   "source": [
    "Hours Watching TV(-0.98): The significant negative relationship between the amount of time spent watching TV and test scores highlights the potential time and attention losses associated with excessive television use when compared to studying and other worthwhile activities. This emphasises how crucial it is to prioritise learning and studying while effectively managing your time and avoiding distractions.\n"
   ]
  },
  {
   "cell_type": "markdown",
   "metadata": {},
   "source": [
    "## No Significance Correlations"
   ]
  },
  {
   "cell_type": "markdown",
   "metadata": {},
   "source": [
    "Hours listening to music (-0.2): The moderately favourable connection between the time spent listening to music and test scores (while not statistically significant) suggests that music may have a small positive influence on focus and relaxation during study sessions. Finding a balance that suits one's learning preferences and concentrate requirements is crucial, but it's important to note that individual preferences for studying settings might differ greatly.\n",
    "\n",
    "Water Consumed (0.36): The moderately favourable association between the amount of water consumed and test results (while not statistically significant) raises the possibility that maintaining sufficient hydration may have a beneficial effect on cognitive performance. It's crucial to stay hydrated to prevent focus problems, weariness, and a loss of mental alertness, all of which can negatively impact exam performance.\n",
    "\n",
    "These correlations provide insights into how various factors can influence academic performance, highlighting the significance of effective study habits, mindful time management, and overall well-being."
   ]
  }
 ],
 "metadata": {
  "kernelspec": {
   "display_name": "base",
   "language": "python",
   "name": "python3"
  },
  "language_info": {
   "codemirror_mode": {
    "name": "ipython",
    "version": 3
   },
   "file_extension": ".py",
   "mimetype": "text/x-python",
   "name": "python",
   "nbconvert_exporter": "python",
   "pygments_lexer": "ipython3",
   "version": "3.11.3"
  },
  "orig_nbformat": 4
 },
 "nbformat": 4,
 "nbformat_minor": 2
}
