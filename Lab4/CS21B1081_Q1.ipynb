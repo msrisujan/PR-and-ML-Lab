{
 "cells": [
  {
   "cell_type": "code",
   "execution_count": 1,
   "metadata": {},
   "outputs": [],
   "source": [
    "import numpy as np"
   ]
  },
  {
   "cell_type": "code",
   "execution_count": 2,
   "metadata": {},
   "outputs": [],
   "source": [
    "def quadratic_form(x_minus_y_T, matrix):\n",
    "    return np.sqrt(x_minus_y_T @ matrix @ x_minus_y_T.T)"
   ]
  },
  {
   "cell_type": "code",
   "execution_count": 3,
   "metadata": {},
   "outputs": [],
   "source": [
    "matrix = np.array(\n",
    "    [\n",
    "        [1, 0.135, 0.195, 0.137, 0.157],\n",
    "        [0.135, 1, 0.2, 0.309, 0.143],\n",
    "        [0.195, 0.2, 1, 0.157, 0.122],\n",
    "        [0.137, 0.309, 0.157, 1, 0.195],\n",
    "        [0.157, 0.143, 0.122, 0.195, 1]\n",
    "    ]\n",
    ")\n",
    "\n",
    "hq_minus_ht_T = np.array([0.5, 0.5, -0.5, -0.25, -0.25])"
   ]
  },
  {
   "cell_type": "code",
   "execution_count": 4,
   "metadata": {},
   "outputs": [
    {
     "name": "stdout",
     "output_type": "stream",
     "text": [
      "Quadratic form distance: 0.8078520904224981\n"
     ]
    }
   ],
   "source": [
    "dist = quadratic_form(hq_minus_ht_T, matrix)\n",
    "print(f\"Quadratic form distance: {dist}\")"
   ]
  }
 ],
 "metadata": {
  "kernelspec": {
   "display_name": "base",
   "language": "python",
   "name": "python3"
  },
  "language_info": {
   "codemirror_mode": {
    "name": "ipython",
    "version": 3
   },
   "file_extension": ".py",
   "mimetype": "text/x-python",
   "name": "python",
   "nbconvert_exporter": "python",
   "pygments_lexer": "ipython3",
   "version": "3.11.3"
  },
  "orig_nbformat": 4
 },
 "nbformat": 4,
 "nbformat_minor": 2
}
