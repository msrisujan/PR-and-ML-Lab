{
 "cells": [
  {
   "cell_type": "code",
   "execution_count": 40,
   "metadata": {},
   "outputs": [],
   "source": [
    "import numpy as np\n",
    "import sympy as sp\n",
    "import pandas as pd"
   ]
  },
  {
   "cell_type": "code",
   "execution_count": 41,
   "metadata": {},
   "outputs": [],
   "source": [
    "class LDA:\n",
    "    def __init__(self, n_components):\n",
    "        self.n_components = n_components\n",
    "        self.X_train = None\n",
    "        self.y_train = None\n",
    "        self.Sw = None\n",
    "        self.Sb = None\n",
    "        self.eigen_values = None\n",
    "        self.eigen_vectors = None\n",
    "\n",
    "    def fit(self, X_train, y_train):\n",
    "        self.X_train = X_train\n",
    "        self.y_train = y_train\n",
    "        Sw = np.zeros((self.X_train.shape[1], self.X_train.shape[1]))\n",
    "        Sb = np.zeros((self.X_train.shape[1], self.X_train.shape[1]))\n",
    "        Sw = np.zeros((self.X_train.shape[1], self.X_train.shape[1]))\n",
    "        for i in range(len(self.X_train)):\n",
    "            x = self.X_train[i].reshape(self.X_train.shape[1], 1)\n",
    "            m = np.mean(self.X_train[self.y_train == self.y_train[i]])\n",
    "            Sw += np.dot((x - m), (x - m).T)\n",
    "        m = np.mean(self.X_train)\n",
    "        for i in range(len(self.X_train)):\n",
    "            x = self.X_train[i].reshape(self.X_train.shape[1], 1)\n",
    "            m_i = np.mean(self.X_train[self.y_train == self.y_train[i]])\n",
    "            Sb += len(self.X_train[self.y_train == self.y_train[i]]) * np.dot((m_i - m), (m_i - m).T)\n",
    "        self.Sw = Sw\n",
    "        self.Sb = Sb\n",
    "        A = np.dot(np.linalg.inv(Sw), Sb)\n",
    "        eigen_values, eigen_vectors = np.linalg.eig(A)\n",
    "        eigen_vectors = eigen_vectors.T\n",
    "        idx = np.argsort(abs(eigen_values))[::-1]\n",
    "        eigen_vectors = eigen_vectors[idx]\n",
    "        eigen_values = eigen_values[idx]\n",
    "        self.eigen_values = eigen_values[0:self.n_components]\n",
    "        self.eigen_vectors = eigen_vectors[0:self.n_components]\n",
    "\n",
    "    def transform(self, X):\n",
    "        return np.dot(X, self.eigen_vectors.T)"
   ]
  },
  {
   "cell_type": "code",
   "execution_count": 42,
   "metadata": {},
   "outputs": [],
   "source": [
    "def euclidean_distance(X_train, X_test):\n",
    "    dist = np.zeros((len(X_test), len(X_train)))\n",
    "    for i in range(len(X_test)):\n",
    "        for j in range(len(X_train)):\n",
    "            dist[i,j] = np.sqrt(np.sum((X_test[i] - X_train[j])**2))\n",
    "    return dist"
   ]
  },
  {
   "cell_type": "code",
   "execution_count": 43,
   "metadata": {},
   "outputs": [],
   "source": [
    "def covariance(X):\n",
    "    mean = np.mean(X,axis=0)\n",
    "    X = X - mean\n",
    "    return np.dot(X.T, X)/(X.shape[0]-1)"
   ]
  },
  {
   "cell_type": "code",
   "execution_count": 44,
   "metadata": {},
   "outputs": [],
   "source": [
    "class KNN:\n",
    "    def __init__(self, k = 5):\n",
    "        self.k = k\n",
    "    def fit(self, X_train, y_train):\n",
    "        self.X_train = X_train\n",
    "        self.y_train = y_train\n",
    "        \n",
    "    def predict(self, X_test):\n",
    "        self.distances = euclidean_distance(self.X_train, X_test)\n",
    "        pred = []\n",
    "        for dist in self.distances:\n",
    "            k_nearest_indices = np.argsort(dist)[:self.k]\n",
    "            k_nearest_labels = self.y_train[k_nearest_indices]\n",
    "            pred.append(np.unique(k_nearest_labels)[np.argmax(np.unique(k_nearest_labels, return_counts=True)[1])])\n",
    "        return np.array(pred)"
   ]
  },
  {
   "cell_type": "code",
   "execution_count": 45,
   "metadata": {},
   "outputs": [],
   "source": [
    "df = pd.read_csv('face.csv')"
   ]
  },
  {
   "cell_type": "code",
   "execution_count": 46,
   "metadata": {},
   "outputs": [
    {
     "name": "stdout",
     "output_type": "stream",
     "text": [
      "           0         1         2         3         4         5         6  \\\n",
      "0   0.309917  0.367769  0.417355  0.442149  0.528926  0.607438  0.657025   \n",
      "1   0.454545  0.471074  0.512397  0.557851  0.595041  0.640496  0.681818   \n",
      "2   0.541322  0.586777  0.640496  0.661157  0.685950  0.685950  0.690083   \n",
      "3   0.644628  0.690083  0.702479  0.702479  0.706612  0.719008  0.727273   \n",
      "4   0.578512  0.603306  0.632231  0.665289  0.677686  0.710744  0.723140   \n",
      "..       ...       ...       ...       ...       ...       ...       ...   \n",
      "75  0.144628  0.219008  0.326446  0.471074  0.570248  0.644628  0.677686   \n",
      "76  0.252066  0.219008  0.227273  0.272727  0.318182  0.388430  0.458678   \n",
      "77  0.355372  0.392562  0.446281  0.462810  0.475207  0.491736  0.500000   \n",
      "78  0.545455  0.611570  0.640496  0.657025  0.636364  0.648760  0.690083   \n",
      "79  0.334711  0.404959  0.475207  0.537190  0.561983  0.553719  0.586777   \n",
      "\n",
      "           7         8         9  ...      4087      4088      4089      4090  \\\n",
      "0   0.677686  0.690083  0.685950  ...  0.669422  0.652893  0.661157  0.475207   \n",
      "1   0.702479  0.710744  0.702479  ...  0.157025  0.136364  0.148760  0.152893   \n",
      "2   0.698347  0.694215  0.690083  ...  0.483471  0.495868  0.512397  0.528926   \n",
      "3   0.739669  0.719008  0.719008  ...  0.495868  0.297521  0.074380  0.099174   \n",
      "4   0.739669  0.739669  0.743802  ...  0.177686  0.194215  0.198347  0.206612   \n",
      "..       ...       ...       ...  ...       ...       ...       ...       ...   \n",
      "75  0.710744  0.739669  0.760331  ...  0.388430  0.165289  0.198347  0.243802   \n",
      "76  0.504132  0.516529  0.524793  ...  0.260331  0.276859  0.293388  0.206612   \n",
      "77  0.504132  0.520661  0.545455  ...  0.132231  0.111570  0.140496  0.165289   \n",
      "78  0.669422  0.665289  0.710744  ...  0.169422  0.173554  0.148760  0.169422   \n",
      "79  0.623967  0.669422  0.690083  ...  0.537190  0.512397  0.466942  0.384298   \n",
      "\n",
      "        4091      4092      4093      4094      4095  target  \n",
      "0   0.132231  0.148760  0.152893  0.161157  0.157025       0  \n",
      "1   0.152893  0.152893  0.152893  0.152893  0.152893       0  \n",
      "2   0.363636  0.111570  0.095041  0.111570  0.111570       1  \n",
      "3   0.111570  0.115702  0.111570  0.107438  0.119835       1  \n",
      "4   0.194215  0.165289  0.177686  0.161157  0.152893       2  \n",
      "..       ...       ...       ...       ...       ...     ...  \n",
      "75  0.219008  0.392562  0.309917  0.210744  0.214876      37  \n",
      "76  0.128099  0.136364  0.157025  0.157025  0.185950      38  \n",
      "77  0.169422  0.173554  0.173554  0.181818  0.185950      38  \n",
      "78  0.165289  0.157025  0.173554  0.173554  0.181818      39  \n",
      "79  0.363636  0.380165  0.384298  0.376033  0.384298      39  \n",
      "\n",
      "[80 rows x 4097 columns]\n"
     ]
    }
   ],
   "source": [
    "classes = df['target'].unique()\n",
    "train = pd.DataFrame()\n",
    "test = pd.DataFrame()\n",
    "\n",
    "for i in classes:\n",
    "    train = pd.concat([train, df[df['target'] == i].iloc[2:]], ignore_index=True)\n",
    "    test = pd.concat([test, df[df['target'] == i].iloc[:2]], ignore_index=True)\n",
    "\n",
    "print(test)"
   ]
  },
  {
   "cell_type": "code",
   "execution_count": 47,
   "metadata": {},
   "outputs": [],
   "source": [
    "X_train = train.drop(['target'], axis=1).values\n",
    "y_train = train['target'].values\n",
    "X_test = test.drop(['target'], axis=1).values\n",
    "y_test = test['target'].values"
   ]
  },
  {
   "cell_type": "code",
   "execution_count": 48,
   "metadata": {},
   "outputs": [],
   "source": [
    "lda = LDA(39)\n",
    "lda.fit(X_train, y_train)"
   ]
  },
  {
   "cell_type": "code",
   "execution_count": 49,
   "metadata": {},
   "outputs": [
    {
     "name": "stdout",
     "output_type": "stream",
     "text": [
      "X_train: 320\n",
      "X_test: 80\n",
      "[[-3.33867886e-04+0.j         -3.69360494e-05+0.j\n",
      "  -1.00204240e-02-0.03448946j ... -4.14866716e-03-0.00599499j\n",
      "  -4.14866716e-03+0.00599499j  6.36530386e-02+0.0124255j ]\n",
      " [-3.33867888e-04+0.j          2.81742953e-05+0.j\n",
      "  -1.05351616e-01-0.19877429j ...  1.84797521e-03-0.03974838j\n",
      "   1.84797521e-03+0.03974838j  1.65180642e-02+0.08254262j]\n",
      " [-3.33867886e-04+0.j         -3.43395995e-05+0.j\n",
      "  -2.27194320e-02-0.02768734j ...  1.41897907e-01-0.01745156j\n",
      "   1.41897907e-01+0.01745156j -7.18880417e-02+0.09119231j]\n",
      " ...\n",
      " [-3.10494538e-04+0.j          1.15070363e-05+0.j\n",
      "   1.04737282e-02-0.10359843j ...  1.18907382e-01-0.08190134j\n",
      "   1.18907382e-01+0.08190134j -7.24902514e-02+0.1899742j ]\n",
      " [-3.10494538e-04+0.j         -2.00505371e-05+0.j\n",
      "  -8.93823111e-02-0.23181809j ... -1.57044674e-01-0.05727074j\n",
      "  -1.57044674e-01+0.05727074j -1.56104293e-02+0.0903929j ]\n",
      " [-3.10494539e-04+0.j          1.86561495e-05+0.j\n",
      "  -1.07453475e-01-0.09157248j ...  4.03278596e-02-0.12283026j\n",
      "   4.03278596e-02+0.12283026j  2.29956932e-02+0.27473728j]]\n"
     ]
    }
   ],
   "source": [
    "X_train = lda.transform(X_train)\n",
    "X_test = lda.transform(X_test)\n",
    "print(f\"X_train: {len(X_train)}\")\n",
    "print(f\"X_test: {len(X_test)}\")\n",
    "print(X_train)"
   ]
  },
  {
   "cell_type": "code",
   "execution_count": 50,
   "metadata": {},
   "outputs": [],
   "source": [
    "knn = KNN(5)\n",
    "knn.fit(X_train, y_train)"
   ]
  },
  {
   "cell_type": "code",
   "execution_count": 51,
   "metadata": {},
   "outputs": [
    {
     "name": "stderr",
     "output_type": "stream",
     "text": [
      "/tmp/ipykernel_8164/27565779.py:5: ComplexWarning: Casting complex values to real discards the imaginary part\n",
      "  dist[i,j] = np.sqrt(np.sum((X_test[i] - X_train[j])**2))\n"
     ]
    },
    {
     "name": "stdout",
     "output_type": "stream",
     "text": [
      "    Actual  Predicted\n",
      "0        0         19\n",
      "1        0          1\n",
      "2        1          2\n",
      "3        1          5\n",
      "4        2         11\n",
      "..     ...        ...\n",
      "75      37          1\n",
      "76      38         20\n",
      "77      38         13\n",
      "78      39          0\n",
      "79      39          5\n",
      "\n",
      "[80 rows x 2 columns]\n"
     ]
    }
   ],
   "source": [
    "y_pred = knn.predict(X_test)\n",
    "compared = pd.DataFrame({'Actual': y_test, 'Predicted': y_pred})\n",
    "print(compared)"
   ]
  },
  {
   "cell_type": "code",
   "execution_count": 52,
   "metadata": {},
   "outputs": [
    {
     "name": "stdout",
     "output_type": "stream",
     "text": [
      "Accuracy:  0.05\n",
      "accuracy percentage:  5.0 %\n"
     ]
    }
   ],
   "source": [
    "def accuracy(y_pred,y_test):\n",
    "    return np.sum(y_pred == y_test)/len(y_test)\n",
    "\n",
    "print(\"Accuracy: \", accuracy(y_pred, y_test))\n",
    "print(\"accuracy percentage: \", accuracy(y_pred, y_test)*100, \"%\")"
   ]
  }
 ],
 "metadata": {
  "kernelspec": {
   "display_name": "base",
   "language": "python",
   "name": "python3"
  },
  "language_info": {
   "codemirror_mode": {
    "name": "ipython",
    "version": 3
   },
   "file_extension": ".py",
   "mimetype": "text/x-python",
   "name": "python",
   "nbconvert_exporter": "python",
   "pygments_lexer": "ipython3",
   "version": "3.11.3"
  }
 },
 "nbformat": 4,
 "nbformat_minor": 2
}
